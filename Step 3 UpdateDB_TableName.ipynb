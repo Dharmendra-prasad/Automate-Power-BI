{
 "cells": [
  {
   "cell_type": "code",
   "execution_count": 1,
   "metadata": {},
   "outputs": [],
   "source": [
    "import pandas as pd \n",
    "import json\n",
    "import os"
   ]
  },
  {
   "cell_type": "code",
   "execution_count": 2,
   "metadata": {},
   "outputs": [],
   "source": [
    "DataConnection = r\"RBI Extracted\\DataModelSchema\"\n",
    "with open(DataConnection,\"r\",encoding='utf-16 le') as f:\n",
    "    data = json.load(f)"
   ]
  },
  {
   "cell_type": "code",
   "execution_count": 3,
   "metadata": {},
   "outputs": [],
   "source": [
    "DataModelExcel = pd.read_excel(\"Data Model Table Name Update.xlsx\")\n",
    "# DataModelExcel"
   ]
  },
  {
   "cell_type": "code",
   "execution_count": 4,
   "metadata": {},
   "outputs": [
    {
     "name": "stdout",
     "output_type": "stream",
     "text": [
      "    rp_FCT_Standard_Results = Source{[Schema=\"rp\",Item=\"FCT_Standard_Results_RBI_CHINESE\"]}[Data],\n",
      "    rp_FCT_StandardSecondaryResponse = Source{[Schema=\"rp\",Item=\"FCT_StandardSecondaryResponse_RBI_CHINESE\"]}[Data],\n"
     ]
    }
   ],
   "source": [
    "for i in data[\"model\"][\"tables\"]:\n",
    "    if(i[\"name\"] in list(DataModelExcel[\"PowerBI Model Table Name\"])):\n",
    "        OldName = DataModelExcel[i[\"name\"]==DataModelExcel[\"PowerBI Model Table Name\"]][\"DB Table Name\"].values[0]\n",
    "        NewName = DataModelExcel[i[\"name\"]==DataModelExcel[\"PowerBI Model Table Name\"]][\"New Language DB Table Name\"].values[0]\n",
    "\n",
    "        i[\"partitions\"][0][\"source\"][\"expression\"][2] = i[\"partitions\"][0][\"source\"][\"expression\"][2].replace(OldName,NewName)\n",
    "        print(i[\"partitions\"][0][\"source\"][\"expression\"][2])"
   ]
  },
  {
   "cell_type": "code",
   "execution_count": 5,
   "metadata": {},
   "outputs": [],
   "source": [
    "# saving update table name file\n",
    "with open(DataConnection, \"w\", encoding = 'utf-16 le') as f:\n",
    "    json.dump(data, f, indent = 4)"
   ]
  },
  {
   "cell_type": "code",
   "execution_count": 6,
   "metadata": {},
   "outputs": [
    {
     "data": {
      "text/plain": [
       "'c:\\\\Users\\\\prasadh\\\\Documents\\\\Power BI label extraction and updation using python\\\\Version 2'"
      ]
     },
     "execution_count": 6,
     "metadata": {},
     "output_type": "execute_result"
    }
   ],
   "source": [
    "# remove unsaved table name file\n",
    "os.remove(r\"RBI Extracted\\UnappliedChanges\")\n",
    "os.getcwd()  "
   ]
  },
  {
   "cell_type": "code",
   "execution_count": null,
   "metadata": {},
   "outputs": [],
   "source": []
  }
 ],
 "metadata": {
  "kernelspec": {
   "display_name": "myenv",
   "language": "python",
   "name": "python3"
  },
  "language_info": {
   "codemirror_mode": {
    "name": "ipython",
    "version": 3
   },
   "file_extension": ".py",
   "mimetype": "text/x-python",
   "name": "python",
   "nbconvert_exporter": "python",
   "pygments_lexer": "ipython3",
   "version": "3.8.20"
  }
 },
 "nbformat": 4,
 "nbformat_minor": 2
}
