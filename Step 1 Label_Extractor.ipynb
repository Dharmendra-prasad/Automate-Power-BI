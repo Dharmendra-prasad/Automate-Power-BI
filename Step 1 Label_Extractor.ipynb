{
 "cells": [
  {
   "cell_type": "code",
   "execution_count": 29,
   "metadata": {},
   "outputs": [],
   "source": [
    "import pandas as pd\n",
    "import zipfile\n",
    "import os\n"
   ]
  },
  {
   "cell_type": "code",
   "execution_count": 30,
   "metadata": {},
   "outputs": [],
   "source": [
    "# Convert .pbit to .zip\n",
    "pbit_file = 'RBI.pbit'\n",
    "zip_file = 'RBI.zip'\n",
    "os.rename(pbit_file, zip_file)\n",
    "\n",
    "# Extract .zip file\n",
    "with zipfile.ZipFile(zip_file, 'r') as zip_ref:\n",
    "    extract_folder = 'RBI Extracted'\n",
    "    zip_ref.extractall(extract_folder)\n",
    "\n",
    "\n",
    "\n"
   ]
  },
  {
   "cell_type": "code",
   "execution_count": 31,
   "metadata": {},
   "outputs": [],
   "source": [
    "#again renaming just to avoid loosing app\n",
    "pbit_file = 'RBI.pbit'\n",
    "zip_file = 'RBI.zip'\n",
    "os.rename(zip_file,pbit_file)"
   ]
  },
  {
   "cell_type": "code",
   "execution_count": 32,
   "metadata": {},
   "outputs": [],
   "source": [
    "# Read Layout file\n",
    "import json\n",
    "filepath = r\"RBI Extracted\\Report\\Layout\"\n",
    "with open(filepath, \"r\", encoding = 'utf-16 le') as f:\n",
    "    data = json.load(f)    "
   ]
  },
  {
   "cell_type": "code",
   "execution_count": 33,
   "metadata": {},
   "outputs": [],
   "source": [
    "excel_file = 'Label_output.xlsx'\n",
    "#storing objects title sheet wise\n",
    "with pd.ExcelWriter(excel_file, engine='openpyxl') as writer:\n",
    "    combine = []\n",
    "    for i in data[\"sections\"]:\n",
    "            currentsheet = i[\"displayName\"]\n",
    "            \n",
    "            for j in i[\"visualContainers\"]:\n",
    "                content = json.loads(j[\"config\"])              \n",
    "                try:\n",
    "                    objectid = content[\"name\"]\n",
    "                    objectlabel = content[\"singleVisual\"][\"vcObjects\"][\"title\"][0][\"properties\"][\"text\"][\"expr\"][\"Literal\"][\"Value\"]\n",
    "                    objectlabel = objectlabel[1:-1]\n",
    "                    combine.append([objectid,objectlabel,objectlabel+\"_Updated\"])\n",
    "                    df = pd.DataFrame(combine,columns=[\"ID\",\"Label\",\"New Label\"])\n",
    "                    df.to_excel(writer, sheet_name=currentsheet, index=False) \n",
    "                except:   \n",
    "                    pass\n",
    "            combine = []        \n",
    "                "
   ]
  },
  {
   "cell_type": "code",
   "execution_count": 34,
   "metadata": {},
   "outputs": [],
   "source": [
    "#Extracting labels for tables\n",
    "\n",
    "excel_file_path = 'TableLableExtracted.xlsx'\n",
    "\n",
    "with pd.ExcelWriter(excel_file_path, engine='openpyxl') as writer:\n",
    "    global df, olddf,newdf\n",
    "    previoussheet = \"\"\n",
    "    for i in data[\"sections\"]:\n",
    "        currentsheet = i[\"displayName\"]\n",
    "        for j in i[\"visualContainers\"]:\n",
    "            content = json.loads(j[\"config\"])\n",
    "            if(content[\"singleVisual\"][\"visualType\"]==\"tableEx\"):\n",
    "                # print(content[\"singleVisual\"])\n",
    "                combine = []\n",
    "                exceldf = pd.read_excel(excel_file,sheet_name=currentsheet)\n",
    "                \n",
    "                for key,value in content[\"singleVisual\"][\"columnProperties\"].items():\n",
    "                    try:\n",
    "                        objectcolumnId = key + content[\"name\"]+value[\"displayName\"]\n",
    "                        oldlabel = value[\"displayName\"]\n",
    "                        combine.append([objectcolumnId,oldlabel,oldlabel+\"_Updated\"])\n",
    "                    except:\n",
    "                        pass     \n",
    "                if(previoussheet == currentsheet ):\n",
    "                    start_row = len(olddf)\n",
    "                    df = pd.DataFrame(combine,columns=[\"ID\",\"Label\",\"New Label\"])\n",
    "                    newdf = pd.concat([olddf, df],ignore_index = True)\n",
    "                    newdf.to_excel(writer, sheet_name=currentsheet, index=False)\n",
    "                    olddf = newdf.copy()\n",
    "                    \n",
    "                else:\n",
    "                    df = pd.DataFrame(combine,columns=[\"ID\",\"Label\",\"New Label\"])\n",
    "                    df.to_excel(writer, sheet_name=currentsheet, index=False)\n",
    "                    olddf = df.copy()\n",
    "                \n",
    "                \n",
    "                previoussheet = currentsheet\n"
   ]
  },
  {
   "cell_type": "code",
   "execution_count": 35,
   "metadata": {},
   "outputs": [],
   "source": [
    "#Extracting labels for all type of barcharts and pie charts\n",
    "\n",
    "excel_file_path = 'BarchartLableExtracted.xlsx'\n",
    "\n",
    "with pd.ExcelWriter(excel_file_path, engine='openpyxl') as writer:\n",
    "    global df, olddf,newdf\n",
    "    previoussheet = \"\"\n",
    "    for i in data[\"sections\"]:\n",
    "        currentsheet = i[\"displayName\"]\n",
    "        for j in i[\"visualContainers\"]:\n",
    "            content = json.loads(j[\"config\"])\n",
    "            if(content[\"singleVisual\"][\"visualType\"] in [\"clusteredColumnChart\",\"clusteredBarChart\",\"barChart\",\"donutChart\"]):\n",
    "                combine = []\n",
    "                exceldf = pd.read_excel(excel_file,sheet_name=currentsheet)\n",
    "                \n",
    "                for key,value in content[\"singleVisual\"][\"columnProperties\"].items():\n",
    "\n",
    "                    try:\n",
    "                        objectcolumnId = key + content[\"name\"]+value[\"displayName\"]\n",
    "                        # print(content)\n",
    "                        # print(currentsheet,value[\"displayName\"])\n",
    "                        oldlabel = value[\"displayName\"]\n",
    "                        combine.append([objectcolumnId,oldlabel,oldlabel+\"_Updated\"])\n",
    "                    except:\n",
    "                        pass   \n",
    "\n",
    "                if(previoussheet == currentsheet):\n",
    "                    start_row = len(olddf)\n",
    "                    df = pd.DataFrame(combine,columns=[\"ID\",\"Label\",\"New Label\"])\n",
    "                    newdf = pd.concat([olddf, df],ignore_index = True)\n",
    "                    newdf.to_excel(writer, sheet_name=currentsheet, index=False)\n",
    "                    olddf = newdf.copy()\n",
    "                else:\n",
    "                    df = pd.DataFrame(combine,columns=[\"ID\",\"Label\",\"New Label\"])\n",
    "                    df.to_excel(writer, sheet_name=currentsheet, index=False)\n",
    "                    olddf = df.copy()  \n",
    "                \n",
    "\n",
    "                previoussheet = currentsheet"
   ]
  },
  {
   "cell_type": "code",
   "execution_count": null,
   "metadata": {},
   "outputs": [],
   "source": []
  }
 ],
 "metadata": {
  "kernelspec": {
   "display_name": "myenv",
   "language": "python",
   "name": "python3"
  },
  "language_info": {
   "codemirror_mode": {
    "name": "ipython",
    "version": 3
   },
   "file_extension": ".py",
   "mimetype": "text/x-python",
   "name": "python",
   "nbconvert_exporter": "python",
   "pygments_lexer": "ipython3",
   "version": "3.8.20"
  }
 },
 "nbformat": 4,
 "nbformat_minor": 2
}
