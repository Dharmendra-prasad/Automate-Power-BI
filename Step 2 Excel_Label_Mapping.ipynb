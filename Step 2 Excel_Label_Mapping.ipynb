{
 "cells": [
  {
   "cell_type": "code",
   "execution_count": 1,
   "metadata": {},
   "outputs": [],
   "source": [
    "import pandas as pd"
   ]
  },
  {
   "cell_type": "code",
   "execution_count": 2,
   "metadata": {},
   "outputs": [],
   "source": [
    "NewLangMapping = pd.read_excel(\"English_TraditionalChinese.xlsx\")\n",
    "NewLangMapping[\"English\"] = NewLangMapping[\"English\"].apply(lambda x: x.strip())\n",
    "NewLangMapping[\"Chinese - Simplified\"] = NewLangMapping[\"Chinese - Simplified\"].apply(lambda x: x.strip())\n"
   ]
  },
  {
   "cell_type": "code",
   "execution_count": 3,
   "metadata": {},
   "outputs": [],
   "source": [
    "#Objectc title mapping with new language\n",
    "ExcelFile = \"Label_output.xlsx\"\n",
    "ObjecLable = pd.read_excel(ExcelFile, sheet_name=None)\n",
    "for sheetname,data in ObjecLable.items():\n",
    "    # print(sheetname)\n",
    "    for  index,row in data.iterrows():\n",
    "        if(row[\"Label\"].strip() in list(NewLangMapping[\"English\"])):\n",
    "            row[\"New Label\"] = NewLangMapping[row[\"Label\"].strip() == NewLangMapping[\"English\"]][\"Chinese - Simplified\"].values[0]\n",
    "            # print(row)\n",
    "        else:\n",
    "            row[\"New Label\"] = row[\"Label\"].strip()+\"_missing\"\n",
    "\n",
    "    with pd.ExcelWriter(ExcelFile, engine='openpyxl', mode='a', if_sheet_exists='replace') as writer: \n",
    "        # Write the updated dataframe to Sheet1 \n",
    "        data.to_excel(writer, sheet_name=sheetname, index=False)      \n"
   ]
  },
  {
   "cell_type": "code",
   "execution_count": 4,
   "metadata": {},
   "outputs": [],
   "source": [
    "#Table column name mapping with new language\n",
    "ExcelFile = \"TableLableExtracted.xlsx\"\n",
    "ObjecLable = pd.read_excel(ExcelFile, sheet_name=None)\n",
    "for sheetname,data in ObjecLable.items():\n",
    "    # print(sheetname)\n",
    "    for  index,row in data.iterrows():\n",
    "        if(row[\"Label\"].strip() in list(NewLangMapping[\"English\"])):\n",
    "            row[\"New Label\"] = NewLangMapping[row[\"Label\"].strip() == NewLangMapping[\"English\"]][\"Chinese - Simplified\"].values[0]\n",
    "            # print(row)\n",
    "        else:\n",
    "            row[\"New Label\"] = row[\"Label\"].strip()+\"_missing\"\n",
    "\n",
    "    with pd.ExcelWriter(ExcelFile, engine='openpyxl', mode='a', if_sheet_exists='replace') as writer: \n",
    "        # Write the updated dataframe to Sheet1 \n",
    "        data.to_excel(writer, sheet_name=sheetname, index=False)  "
   ]
  },
  {
   "cell_type": "code",
   "execution_count": 5,
   "metadata": {},
   "outputs": [],
   "source": [
    "#Bar chart and piechart column name mapping with new language\n",
    "ExcelFile = \"BarchartLableExtracted.xlsx\"\n",
    "ObjecLable = pd.read_excel(ExcelFile, sheet_name=None)\n",
    "for sheetname,data in ObjecLable.items():\n",
    "    # print(sheetname)\n",
    "    for  index,row in data.iterrows():\n",
    "        if(row[\"Label\"].strip() in list(NewLangMapping[\"English\"])):\n",
    "            row[\"New Label\"] = NewLangMapping[row[\"Label\"].strip() == NewLangMapping[\"English\"]][\"Chinese - Simplified\"].values[0]\n",
    "            # print(row)\n",
    "        else:\n",
    "            row[\"New Label\"] = row[\"Label\"].strip()+\"_missing\"\n",
    "\n",
    "    with pd.ExcelWriter(ExcelFile, engine='openpyxl', mode='a', if_sheet_exists='replace') as writer: \n",
    "        # Write the updated dataframe to Sheet1 \n",
    "        data.to_excel(writer, sheet_name=sheetname, index=False) "
   ]
  },
  {
   "cell_type": "code",
   "execution_count": null,
   "metadata": {},
   "outputs": [],
   "source": []
  }
 ],
 "metadata": {
  "kernelspec": {
   "display_name": "myenv",
   "language": "python",
   "name": "python3"
  },
  "language_info": {
   "codemirror_mode": {
    "name": "ipython",
    "version": 3
   },
   "file_extension": ".py",
   "mimetype": "text/x-python",
   "name": "python",
   "nbconvert_exporter": "python",
   "pygments_lexer": "ipython3",
   "version": "3.8.20"
  }
 },
 "nbformat": 4,
 "nbformat_minor": 2
}
