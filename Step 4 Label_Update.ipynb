{
 "cells": [
  {
   "cell_type": "code",
   "execution_count": 1,
   "metadata": {},
   "outputs": [],
   "source": [
    "import pandas as pd\n",
    "import zipfile\n",
    "import os\n",
    "import shutil"
   ]
  },
  {
   "cell_type": "code",
   "execution_count": 2,
   "metadata": {},
   "outputs": [],
   "source": [
    "\n",
    "\n",
    "# # Convert .pbit to .zip\n",
    "# pbit_file = 'RBI.pbit'\n",
    "# zip_file = 'RBI.zip'\n",
    "# os.rename(pbit_file, zip_file)\n",
    "\n",
    "# # Extract .zip file\n",
    "# with zipfile.ZipFile(zip_file, 'r') as zip_ref:\n",
    "#     extract_folder = 'RBI Extracted'\n",
    "#     zip_ref.extractall(extract_folder)\n",
    "\n",
    "# #again renaming app to avoiding loosing\n",
    "# pbit_file = 'RBI.pbit'\n",
    "# zip_file = 'RBI.zip'\n",
    "# os.rename(zip_file,pbit_file)\n",
    "\n",
    "\n",
    "\n",
    "# load Layout file\n",
    "import json\n",
    "filepath = r\"RBI Extracted\\Report\\Layout\"\n",
    "with open(filepath, \"r\", encoding = 'utf-16 le') as f:\n",
    "    orgdata = json.load(f)\n",
    "\n",
    "# Get the list of all files and directories\n",
    "# path = r\"C:\\Users\\prasadh\\Documents\\Power BI label extraction and updation using python\"\n",
    "# dir_list = os.listdir(path)\n",
    "# print(\"Files and directories in '\", path, \"' :\")\n",
    "# # prints all files\n",
    "# print(dir_list)\n",
    "data = orgdata.copy()\n"
   ]
  },
  {
   "cell_type": "code",
   "execution_count": 3,
   "metadata": {},
   "outputs": [],
   "source": [
    "# Update all object labels\n",
    "excel_file = 'Label_output.xlsx'\n",
    "exceldata = pd.read_excel(excel_file, sheet_name=None)\n",
    "position = 0\n",
    "\n",
    "for (sheet_name, exceldf), jsondata in zip(exceldata.items(), data[\"sections\"]): \n",
    "    #pull excel data sheet wise and remove null rows\n",
    "    exceldf = exceldf[~exceldf[\"Label\"].isna()].reset_index(drop=True)\n",
    "    # exceldf.set_index(\"ID\",inplace=True)\n",
    "    # print(exceldf)\n",
    "    jsonsheetname = jsondata[\"displayName\"] \n",
    "    # print(exceldf.index.to_list())\n",
    "\n",
    "    if(sheet_name == jsonsheetname):\n",
    "        innerposition = 0\n",
    "        for j in jsondata[\"visualContainers\"]:\n",
    "\n",
    "            content = j[\"config\"]\n",
    "            objectid = content\n",
    "            objectid = objectid[9:29]\n",
    "            if(len(exceldf[exceldf[\"ID\"] == objectid])>0):\n",
    "                NewLabel = list(exceldf[exceldf[\"ID\"] == objectid][\"New Label\"])[0]\n",
    "                Label = list(exceldf[exceldf[\"ID\"] == objectid][\"Label\"])[0]\n",
    "                # print(Label,NewLabel)\n",
    "                data[\"sections\"][position][\"visualContainers\"][innerposition][\"config\"] = data[\"sections\"][position][\"visualContainers\"][innerposition][\"config\"].replace(Label,NewLabel)\n",
    "            innerposition += 1    \n",
    "            \n",
    "        position += 1 \n"
   ]
  },
  {
   "cell_type": "code",
   "execution_count": 4,
   "metadata": {},
   "outputs": [],
   "source": [
    "# excel_file = 'Label_output.xlsx'\n",
    "# # #storing labels sheet wise\n",
    "# # with pd.ExcelWriter(excel_file, engine='openpyxl') as writer:\n",
    "# count = 0\n",
    "# for i in data[\"sections\"]:\n",
    "#         currentsheet = i[\"displayName\"]\n",
    "#         exceldf = pd.read_excel(excel_file,sheet_name=currentsheet)\n",
    "#         for j in i[\"visualContainers\"]:\n",
    "#             content = json.loads(j[\"config\"])     \n",
    "           \n",
    "#             objectid = content[\"name\"]\n",
    "#             newLabel = exceldf[exceldf[\"ID\"] == objectid][\"New Label\"]\n",
    "#             if(len(newLabel)>0):\n",
    "#                 newLabel = newLabel.values[0]\n",
    "            \n",
    "#                 try:  \n",
    "                    \n",
    "#                     print(content[\"singleVisual\"][\"vcObjects\"][\"title\"][0][\"properties\"][\"text\"][\"expr\"][\"Literal\"][\"Value\"],currentsheet)\n",
    "#                     content[\"singleVisual\"][\"vcObjects\"][\"title\"][0][\"properties\"][\"text\"][\"expr\"][\"Literal\"][\"Value\"] = newLabel\n",
    "\n",
    "#                     print(content[\"singleVisual\"][\"vcObjects\"][\"title\"][0][\"properties\"][\"text\"][\"expr\"][\"Literal\"][\"Value\"],currentsheet)\n",
    "\n",
    "#                     count += 1\n",
    "#                 except: \n",
    "#                     pass\n",
    "\n",
    "#             content_json_string = json.dumps(content)\n",
    "#             j[\"config\"] = content_json_string\n",
    "# print(data)  \n",
    "# print(count)            "
   ]
  },
  {
   "cell_type": "code",
   "execution_count": 5,
   "metadata": {},
   "outputs": [],
   "source": [
    "#Label update for all tables\n",
    "excel_file = 'TableLableExtracted.xlsx'\n",
    "for i in data[\"sections\"]:\n",
    "    currentsheet = i[\"displayName\"]\n",
    "\n",
    "    for j in i[\"visualContainers\"]:\n",
    "        content = json.loads(j[\"config\"])\n",
    "\n",
    "        if(content[\"singleVisual\"][\"visualType\"]==\"tableEx\"):\n",
    "            exceldf = pd.read_excel(excel_file,sheet_name=currentsheet)\n",
    "\n",
    "            for key,value in content[\"singleVisual\"][\"columnProperties\"].items():\n",
    "                # print(currentsheet)\n",
    "                # if(currentsheet == \"SSR vs RTD\"):\n",
    "                \n",
    "                # print(checkid)\n",
    "                # print(list(exceldf[exceldf[\"ID\"] == checkid][\"New Label\"])[0] )\n",
    "                # print(checkid)\n",
    "                try:\n",
    "                    checkid = (key+content[\"name\"]+value[\"displayName\"])\n",
    "                    newvalue = list(exceldf[exceldf[\"ID\"] == checkid][\"New Label\"])[0]\n",
    "                    # print(value[\"displayName\"])\n",
    "                    value[\"displayName\"] = newvalue\n",
    "\n",
    "                except:\n",
    "                    # print(\"here\")\n",
    "                    pass\n",
    "                    \n",
    "                \n",
    "            # print(content)\n",
    "\n",
    "\n",
    "        content_json_string = json.dumps(content)\n",
    "        j[\"config\"] = content_json_string\n",
    "# print(data)\n",
    "        \n"
   ]
  },
  {
   "cell_type": "code",
   "execution_count": 6,
   "metadata": {},
   "outputs": [],
   "source": [
    "#Label update for all bar and donut charts\n",
    "excel_file = 'BarchartLableExtracted.xlsx'\n",
    "for i in data[\"sections\"]:\n",
    "    currentsheet = i[\"displayName\"]\n",
    "\n",
    "    for j in i[\"visualContainers\"]:\n",
    "        content = json.loads(j[\"config\"])\n",
    "\n",
    "        if(content[\"singleVisual\"][\"visualType\"] in [\"clusteredColumnChart\",\"clusteredBarChart\",\"barChart\",\"donutChart\"]):\n",
    "            exceldf = pd.read_excel(excel_file,sheet_name=currentsheet)\n",
    "            # print(currentsheet)\n",
    "            for key,value in content[\"singleVisual\"][\"columnProperties\"].items():\n",
    "                try:\n",
    "                    checkid = (key+content[\"name\"]+value[\"displayName\"])\n",
    "                    newvalue = list(exceldf[exceldf[\"ID\"] == checkid][\"New Label\"])[0]\n",
    "                    value[\"displayName\"] = newvalue\n",
    "                except:\n",
    "                    pass\n",
    "\n",
    "        content_json_string = json.dumps(content)\n",
    "        j[\"config\"] = content_json_string\n",
    "# print(data)"
   ]
  },
  {
   "cell_type": "code",
   "execution_count": 7,
   "metadata": {},
   "outputs": [],
   "source": [
    "#dumping with updated labels\n",
    "with open(\"RBI Extracted\\Report\\Layout\", 'w', encoding = 'utf-16 le') as outfile:\n",
    "    json.dump(data, outfile, indent = 4)\n",
    "#removing security file\n",
    "  "
   ]
  },
  {
   "cell_type": "code",
   "execution_count": 8,
   "metadata": {},
   "outputs": [
    {
     "data": {
      "text/plain": [
       "'c:\\\\Users\\\\prasadh\\\\Documents\\\\Power BI label extraction and updation using python\\\\Version 2'"
      ]
     },
     "execution_count": 8,
     "metadata": {},
     "output_type": "execute_result"
    }
   ],
   "source": [
    "os.remove(r\"RBI Extracted\\SecurityBindings\")\n",
    "os.getcwd()  "
   ]
  },
  {
   "cell_type": "code",
   "execution_count": 9,
   "metadata": {},
   "outputs": [],
   "source": [
    "#Repack extracted folder to .zip\n",
    "extract_folder = 'RBI Extracted'\n",
    "shutil.make_archive('RBI New App', 'zip', extract_folder)\n",
    "#Rename .zip to .pbit\n",
    "new_zip_file = 'RBI New App.zip'\n",
    "new_pbit_file = 'RBI New App.pbit'\n",
    "os.rename(new_zip_file, new_pbit_file)\n",
    "\n",
    "# Clean up extracted folder and original zip file if needed\n",
    "# shutil.rmtree(extract_folder)\n",
    "# os.remove(zip_file)\n"
   ]
  },
  {
   "cell_type": "code",
   "execution_count": 10,
   "metadata": {},
   "outputs": [],
   "source": [
    "# connection\n",
    "# ecl-ecosure-tv-sql-001-s.database.windows.net\n",
    "# TrueViewDWDB"
   ]
  }
 ],
 "metadata": {
  "kernelspec": {
   "display_name": "myenv",
   "language": "python",
   "name": "python3"
  },
  "language_info": {
   "codemirror_mode": {
    "name": "ipython",
    "version": 3
   },
   "file_extension": ".py",
   "mimetype": "text/x-python",
   "name": "python",
   "nbconvert_exporter": "python",
   "pygments_lexer": "ipython3",
   "version": "3.8.20"
  }
 },
 "nbformat": 4,
 "nbformat_minor": 2
}
